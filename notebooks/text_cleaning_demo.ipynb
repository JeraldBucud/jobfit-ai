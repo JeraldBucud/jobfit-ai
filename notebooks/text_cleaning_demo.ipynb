{
 "cells": [
  {
   "cell_type": "code",
   "execution_count": null,
   "id": "d7d9d942",
   "metadata": {
    "vscode": {
     "languageId": "plaintext"
    }
   },
   "outputs": [],
   "source": [
    "{\n",
    " \"cells\": [\n",
    "  {\n",
    "   \"cell_type\": \"markdown\",\n",
    "   \"metadata\": {},\n",
    "   \"source\": [\n",
    "    \"# Text Cleaning Demo\\n\",\n",
    "    \"\\n\",\n",
    "    \"This notebook is used for prototyping text preprocessing steps for **JobFit AI**.\\n\",\n",
    "    \"\\n\",\n",
    "    \"### Example steps:\\n\",\n",
    "    \"- Tokenization\\n\",\n",
    "    \"- Lowercasing\\n\",\n",
    "    \"- Stopword removal\\n\",\n",
    "    \"- Lemmatization\\n\"\n",
    "   ]\n",
    "  },\n",
    "  {\n",
    "   \"cell_type\": \"code\",\n",
    "   \"execution_count\": null,\n",
    "   \"metadata\": {},\n",
    "   \"outputs\": [],\n",
    "   \"source\": [\n",
    "    \"# TODO: implement basic text cleaning here\\n\",\n",
    "    \"sample_text = \\\"This is a sample resume text with EXTRA spaces!!!\\\"\\n\",\n",
    "    \"print(sample_text)\"\n",
    "   ]\n",
    "  }\n",
    " ],\n",
    " \"metadata\": {\n",
    "  \"kernelspec\": {\n",
    "   \"display_name\": \"Python 3\",\n",
    "   \"language\": \"python\",\n",
    "   \"name\": \"python3\"\n",
    "  },\n",
    "  \"language_info\": {\n",
    "   \"name\": \"python\",\n",
    "   \"version\": \"3.10\"\n",
    "  }\n",
    " },\n",
    " \"nbformat\": 4,\n",
    " \"nbformat_minor\": 5\n",
    "}\n"
   ]
  }
 ],
 "metadata": {
  "language_info": {
   "name": "python"
  }
 },
 "nbformat": 4,
 "nbformat_minor": 5
}
